{
 "cells": [
  {
   "cell_type": "code",
   "execution_count": 1,
   "metadata": {},
   "outputs": [
    {
     "data": {
      "text/html": [
       "<div>\n",
       "<style scoped>\n",
       "    .dataframe tbody tr th:only-of-type {\n",
       "        vertical-align: middle;\n",
       "    }\n",
       "\n",
       "    .dataframe tbody tr th {\n",
       "        vertical-align: top;\n",
       "    }\n",
       "\n",
       "    .dataframe thead th {\n",
       "        text-align: right;\n",
       "    }\n",
       "</style>\n",
       "<table border=\"1\" class=\"dataframe\">\n",
       "  <thead>\n",
       "    <tr style=\"text-align: right;\">\n",
       "      <th></th>\n",
       "      <th>aspiration</th>\n",
       "      <th>enginelocation</th>\n",
       "      <th>carwidth</th>\n",
       "      <th>curbweight</th>\n",
       "      <th>enginetype</th>\n",
       "      <th>cylindernumber</th>\n",
       "      <th>stroke</th>\n",
       "      <th>peakrpm</th>\n",
       "      <th>price</th>\n",
       "    </tr>\n",
       "  </thead>\n",
       "  <tbody>\n",
       "    <tr>\n",
       "      <th>0</th>\n",
       "      <td>std</td>\n",
       "      <td>front</td>\n",
       "      <td>64.10000</td>\n",
       "      <td>2548</td>\n",
       "      <td>dohc</td>\n",
       "      <td>four</td>\n",
       "      <td>2.68</td>\n",
       "      <td>5000</td>\n",
       "      <td>13495.0</td>\n",
       "    </tr>\n",
       "    <tr>\n",
       "      <th>1</th>\n",
       "      <td>std</td>\n",
       "      <td>front</td>\n",
       "      <td>64.10000</td>\n",
       "      <td>2548</td>\n",
       "      <td>dohc</td>\n",
       "      <td>four</td>\n",
       "      <td>2.68</td>\n",
       "      <td>5000</td>\n",
       "      <td>16500.0</td>\n",
       "    </tr>\n",
       "    <tr>\n",
       "      <th>2</th>\n",
       "      <td>std</td>\n",
       "      <td>front</td>\n",
       "      <td>65.50000</td>\n",
       "      <td>2823</td>\n",
       "      <td>ohcv</td>\n",
       "      <td>six</td>\n",
       "      <td>3.47</td>\n",
       "      <td>5000</td>\n",
       "      <td>16500.0</td>\n",
       "    </tr>\n",
       "    <tr>\n",
       "      <th>3</th>\n",
       "      <td>std</td>\n",
       "      <td>front</td>\n",
       "      <td>65.88794</td>\n",
       "      <td>2337</td>\n",
       "      <td>ohc</td>\n",
       "      <td>four</td>\n",
       "      <td>3.40</td>\n",
       "      <td>5500</td>\n",
       "      <td>13950.0</td>\n",
       "    </tr>\n",
       "    <tr>\n",
       "      <th>4</th>\n",
       "      <td>std</td>\n",
       "      <td>front</td>\n",
       "      <td>66.40000</td>\n",
       "      <td>2824</td>\n",
       "      <td>ohc</td>\n",
       "      <td>five</td>\n",
       "      <td>3.40</td>\n",
       "      <td>5500</td>\n",
       "      <td>17450.0</td>\n",
       "    </tr>\n",
       "  </tbody>\n",
       "</table>\n",
       "</div>"
      ],
      "text/plain": [
       "  aspiration enginelocation  carwidth  curbweight enginetype cylindernumber  \\\n",
       "0        std          front  64.10000        2548       dohc           four   \n",
       "1        std          front  64.10000        2548       dohc           four   \n",
       "2        std          front  65.50000        2823       ohcv            six   \n",
       "3        std          front  65.88794        2337        ohc           four   \n",
       "4        std          front  66.40000        2824        ohc           five   \n",
       "\n",
       "   stroke  peakrpm    price  \n",
       "0    2.68     5000  13495.0  \n",
       "1    2.68     5000  16500.0  \n",
       "2    3.47     5000  16500.0  \n",
       "3    3.40     5500  13950.0  \n",
       "4    3.40     5500  17450.0  "
      ]
     },
     "execution_count": 1,
     "metadata": {},
     "output_type": "execute_result"
    }
   ],
   "source": [
    "#Read the dataset\n",
    "import pandas as pd\n",
    "df = pd.read_csv('cars_clean.csv')\n",
    "df.head()"
   ]
  },
  {
   "cell_type": "code",
   "execution_count": 2,
   "metadata": {},
   "outputs": [],
   "source": [
    "#Import the Libraries\n",
    "from sklearn.linear_model import LinearRegression\n",
    "from sklearn.model_selection import train_test_split"
   ]
  },
  {
   "cell_type": "code",
   "execution_count": 3,
   "metadata": {},
   "outputs": [
    {
     "data": {
      "text/html": [
       "<div>\n",
       "<style scoped>\n",
       "    .dataframe tbody tr th:only-of-type {\n",
       "        vertical-align: middle;\n",
       "    }\n",
       "\n",
       "    .dataframe tbody tr th {\n",
       "        vertical-align: top;\n",
       "    }\n",
       "\n",
       "    .dataframe thead th {\n",
       "        text-align: right;\n",
       "    }\n",
       "</style>\n",
       "<table border=\"1\" class=\"dataframe\">\n",
       "  <thead>\n",
       "    <tr style=\"text-align: right;\">\n",
       "      <th></th>\n",
       "      <th>carwidth</th>\n",
       "      <th>curbweight</th>\n",
       "      <th>stroke</th>\n",
       "      <th>peakrpm</th>\n",
       "    </tr>\n",
       "  </thead>\n",
       "  <tbody>\n",
       "    <tr>\n",
       "      <th>0</th>\n",
       "      <td>64.10000</td>\n",
       "      <td>2548</td>\n",
       "      <td>2.68</td>\n",
       "      <td>5000</td>\n",
       "    </tr>\n",
       "    <tr>\n",
       "      <th>1</th>\n",
       "      <td>64.10000</td>\n",
       "      <td>2548</td>\n",
       "      <td>2.68</td>\n",
       "      <td>5000</td>\n",
       "    </tr>\n",
       "    <tr>\n",
       "      <th>2</th>\n",
       "      <td>65.50000</td>\n",
       "      <td>2823</td>\n",
       "      <td>3.47</td>\n",
       "      <td>5000</td>\n",
       "    </tr>\n",
       "    <tr>\n",
       "      <th>3</th>\n",
       "      <td>65.88794</td>\n",
       "      <td>2337</td>\n",
       "      <td>3.40</td>\n",
       "      <td>5500</td>\n",
       "    </tr>\n",
       "    <tr>\n",
       "      <th>4</th>\n",
       "      <td>66.40000</td>\n",
       "      <td>2824</td>\n",
       "      <td>3.40</td>\n",
       "      <td>5500</td>\n",
       "    </tr>\n",
       "    <tr>\n",
       "      <th>...</th>\n",
       "      <td>...</td>\n",
       "      <td>...</td>\n",
       "      <td>...</td>\n",
       "      <td>...</td>\n",
       "    </tr>\n",
       "    <tr>\n",
       "      <th>200</th>\n",
       "      <td>68.90000</td>\n",
       "      <td>2952</td>\n",
       "      <td>3.15</td>\n",
       "      <td>5400</td>\n",
       "    </tr>\n",
       "    <tr>\n",
       "      <th>201</th>\n",
       "      <td>68.80000</td>\n",
       "      <td>3049</td>\n",
       "      <td>3.15</td>\n",
       "      <td>5300</td>\n",
       "    </tr>\n",
       "    <tr>\n",
       "      <th>202</th>\n",
       "      <td>68.90000</td>\n",
       "      <td>3012</td>\n",
       "      <td>2.87</td>\n",
       "      <td>5500</td>\n",
       "    </tr>\n",
       "    <tr>\n",
       "      <th>203</th>\n",
       "      <td>68.90000</td>\n",
       "      <td>3217</td>\n",
       "      <td>3.40</td>\n",
       "      <td>4800</td>\n",
       "    </tr>\n",
       "    <tr>\n",
       "      <th>204</th>\n",
       "      <td>68.90000</td>\n",
       "      <td>3062</td>\n",
       "      <td>3.15</td>\n",
       "      <td>5400</td>\n",
       "    </tr>\n",
       "  </tbody>\n",
       "</table>\n",
       "<p>205 rows × 4 columns</p>\n",
       "</div>"
      ],
      "text/plain": [
       "     carwidth  curbweight  stroke  peakrpm\n",
       "0    64.10000        2548    2.68     5000\n",
       "1    64.10000        2548    2.68     5000\n",
       "2    65.50000        2823    3.47     5000\n",
       "3    65.88794        2337    3.40     5500\n",
       "4    66.40000        2824    3.40     5500\n",
       "..        ...         ...     ...      ...\n",
       "200  68.90000        2952    3.15     5400\n",
       "201  68.80000        3049    3.15     5300\n",
       "202  68.90000        3012    2.87     5500\n",
       "203  68.90000        3217    3.40     4800\n",
       "204  68.90000        3062    3.15     5400\n",
       "\n",
       "[205 rows x 4 columns]"
      ]
     },
     "execution_count": 3,
     "metadata": {},
     "output_type": "execute_result"
    }
   ],
   "source": [
    "x = df.drop(columns=[\"aspiration\",\"enginelocation\",\"enginetype\",\"cylindernumber\",\"price\"])\n",
    "x"
   ]
  },
  {
   "cell_type": "code",
   "execution_count": 4,
   "metadata": {},
   "outputs": [],
   "source": [
    "y = df[\"price\"]"
   ]
  },
  {
   "cell_type": "code",
   "execution_count": 5,
   "metadata": {},
   "outputs": [
    {
     "data": {
      "text/plain": [
       "0.7831319076413878"
      ]
     },
     "execution_count": 5,
     "metadata": {},
     "output_type": "execute_result"
    }
   ],
   "source": [
    "#Split the Dataset into training and testing set\n",
    "x_train, x_test, y_train, y_test = train_test_split(x,y,test_size=0.3,random_state=3)\n",
    "\n",
    "#Instanciate the model\n",
    "model = LinearRegression()\n",
    "\n",
    "#Fit the model\n",
    "model.fit(x_train, y_train)\n",
    "\n",
    "#read the model score\n",
    "model.score(x_test, y_test)"
   ]
  },
  {
   "cell_type": "code",
   "execution_count": 6,
   "metadata": {},
   "outputs": [],
   "source": [
    "from sklearn.inspection import permutation_importance\n",
    "perm_score = permutation_importance(model, x_train, y_train, n_repeats=40)"
   ]
  },
  {
   "cell_type": "code",
   "execution_count": 7,
   "metadata": {},
   "outputs": [
    {
     "data": {
      "text/plain": [
       "{'importances_mean': array([6.35650765e-04, 1.40996687e+00, 1.14676049e-02, 8.56967926e-02]),\n",
       " 'importances_std': array([0.00154529, 0.12498115, 0.00740008, 0.02179235]),\n",
       " 'importances': array([[ 3.35656326e-04,  1.13490793e-03, -1.00767259e-03,\n",
       "         -9.06368837e-04,  4.33688483e-04,  4.14636992e-03,\n",
       "          1.88724802e-03,  4.93761265e-03,  9.21394145e-04,\n",
       "          1.49019782e-03,  1.20667134e-03, -3.55909406e-05,\n",
       "         -1.78595597e-03, -1.79059173e-03,  1.61181691e-03,\n",
       "          2.90353129e-03, -1.38455854e-04,  6.79011197e-04,\n",
       "          1.29320165e-03, -2.37673719e-04,  9.26833606e-04,\n",
       "          6.33250838e-04,  2.79591680e-03,  1.77827177e-03,\n",
       "         -1.80521282e-03,  1.14873965e-03,  1.02085937e-03,\n",
       "          1.70800434e-03, -2.81759331e-03, -9.73313495e-04,\n",
       "         -9.69117947e-04,  1.44747140e-03, -1.86280389e-04,\n",
       "          9.19208258e-04,  1.34582911e-03, -2.80706823e-05,\n",
       "          1.45654954e-03, -7.32772631e-04,  9.22700470e-04,\n",
       "         -2.44241315e-04],\n",
       "        [ 1.64935413e+00,  1.48938838e+00,  1.47705741e+00,\n",
       "          1.40028808e+00,  1.54323744e+00,  1.47259115e+00,\n",
       "          1.39656532e+00,  1.54163887e+00,  1.73091293e+00,\n",
       "          1.52587031e+00,  1.44178578e+00,  1.26030758e+00,\n",
       "          1.12098601e+00,  1.43033437e+00,  1.33712854e+00,\n",
       "          1.59329105e+00,  1.39173439e+00,  1.30501990e+00,\n",
       "          1.51949890e+00,  1.26072450e+00,  1.43452394e+00,\n",
       "          1.35719053e+00,  1.29456562e+00,  1.51312961e+00,\n",
       "          1.39973964e+00,  1.42539177e+00,  1.35735044e+00,\n",
       "          1.53356449e+00,  1.20734783e+00,  1.29985433e+00,\n",
       "          1.28830167e+00,  1.49302798e+00,  1.20293283e+00,\n",
       "          1.38248366e+00,  1.33580192e+00,  1.39865160e+00,\n",
       "          1.41807569e+00,  1.35267793e+00,  1.27423396e+00,\n",
       "          1.54211422e+00],\n",
       "        [ 6.81827835e-03, -3.69621994e-04,  1.12050134e-02,\n",
       "          1.23050157e-02,  2.41580915e-02, -6.38849688e-03,\n",
       "          1.61605237e-02,  7.77878880e-03,  2.96894306e-03,\n",
       "          9.33628038e-03,  9.66657266e-03,  2.21528065e-02,\n",
       "          2.22440476e-02,  1.88298203e-02,  1.35924087e-02,\n",
       "          1.11192079e-02,  7.58349785e-03,  9.40127453e-03,\n",
       "          6.98749753e-04, -6.30911070e-04,  1.20721172e-02,\n",
       "          2.07815914e-02,  1.18626666e-02,  1.55577301e-02,\n",
       "          6.39753395e-03,  1.77053356e-03,  2.39492588e-02,\n",
       "          1.73227404e-02,  1.45989014e-02,  1.77997883e-02,\n",
       "          1.37586402e-02,  8.50132261e-03,  9.88812623e-03,\n",
       "          2.05503327e-02,  1.37689891e-02,  3.91098837e-03,\n",
       "          6.13015056e-03,  2.88686869e-03,  2.17466334e-02,\n",
       "          1.68189910e-02],\n",
       "        [ 1.16013813e-01,  6.17376825e-02,  9.29853479e-02,\n",
       "          4.97472606e-02,  6.22239300e-02,  1.03864218e-01,\n",
       "          6.88118878e-02,  7.80460471e-02,  1.00009367e-01,\n",
       "          8.81582349e-02,  1.02129749e-01,  1.18553556e-01,\n",
       "          1.00737177e-01,  5.75462081e-02,  9.13486384e-02,\n",
       "          9.88824598e-02,  7.46711089e-02,  8.02571125e-02,\n",
       "          1.03007494e-01,  7.64602467e-02,  7.10986015e-02,\n",
       "          1.18489166e-01,  7.76325428e-02,  3.58239490e-02,\n",
       "          7.76619566e-02,  7.52423319e-02,  6.68124869e-02,\n",
       "          1.04866795e-01,  1.16519772e-01,  8.78410919e-02,\n",
       "          1.10846490e-01,  9.09163992e-02,  3.67879601e-02,\n",
       "          9.13020229e-02,  1.04255896e-01,  8.91170735e-02,\n",
       "          9.58266467e-02,  8.08103526e-02,  1.19710078e-01,\n",
       "          5.11185507e-02]])}"
      ]
     },
     "execution_count": 7,
     "metadata": {},
     "output_type": "execute_result"
    }
   ],
   "source": [
    "perm_score"
   ]
  },
  {
   "cell_type": "code",
   "execution_count": 8,
   "metadata": {},
   "outputs": [],
   "source": [
    "import numpy as np\n",
    "df_features =pd.DataFrame(np.vstack((x_train.columns, perm_score.importances_mean)).T, columns=['feature','importance'])\n",
    "    "
   ]
  },
  {
   "cell_type": "code",
   "execution_count": 9,
   "metadata": {},
   "outputs": [
    {
     "data": {
      "text/plain": [
       "array([['carwidth', 'curbweight', 'stroke', 'peakrpm'],\n",
       "       [0.0006356507645199877, 1.4099668672854722, 0.011467604880865994,\n",
       "        0.08569679256194948]], dtype=object)"
      ]
     },
     "execution_count": 9,
     "metadata": {},
     "output_type": "execute_result"
    }
   ],
   "source": [
    "np.vstack((x.columns, perm_score.importances_mean))"
   ]
  },
  {
   "cell_type": "code",
   "execution_count": 10,
   "metadata": {},
   "outputs": [
    {
     "data": {
      "text/plain": [
       "array([['carwidth', 0.0006356507645199877],\n",
       "       ['curbweight', 1.4099668672854722],\n",
       "       ['stroke', 0.011467604880865994],\n",
       "       ['peakrpm', 0.08569679256194948]], dtype=object)"
      ]
     },
     "execution_count": 10,
     "metadata": {},
     "output_type": "execute_result"
    }
   ],
   "source": [
    "np.vstack((x.columns, perm_score.importances_mean)).T"
   ]
  },
  {
   "cell_type": "code",
   "execution_count": 11,
   "metadata": {},
   "outputs": [
    {
     "data": {
      "text/html": [
       "<div>\n",
       "<style scoped>\n",
       "    .dataframe tbody tr th:only-of-type {\n",
       "        vertical-align: middle;\n",
       "    }\n",
       "\n",
       "    .dataframe tbody tr th {\n",
       "        vertical-align: top;\n",
       "    }\n",
       "\n",
       "    .dataframe thead th {\n",
       "        text-align: right;\n",
       "    }\n",
       "</style>\n",
       "<table border=\"1\" class=\"dataframe\">\n",
       "  <thead>\n",
       "    <tr style=\"text-align: right;\">\n",
       "      <th></th>\n",
       "      <th>0</th>\n",
       "      <th>1</th>\n",
       "    </tr>\n",
       "  </thead>\n",
       "  <tbody>\n",
       "    <tr>\n",
       "      <th>0</th>\n",
       "      <td>carwidth</td>\n",
       "      <td>0.000636</td>\n",
       "    </tr>\n",
       "    <tr>\n",
       "      <th>1</th>\n",
       "      <td>curbweight</td>\n",
       "      <td>1.409967</td>\n",
       "    </tr>\n",
       "    <tr>\n",
       "      <th>2</th>\n",
       "      <td>stroke</td>\n",
       "      <td>0.011468</td>\n",
       "    </tr>\n",
       "    <tr>\n",
       "      <th>3</th>\n",
       "      <td>peakrpm</td>\n",
       "      <td>0.085697</td>\n",
       "    </tr>\n",
       "  </tbody>\n",
       "</table>\n",
       "</div>"
      ],
      "text/plain": [
       "            0         1\n",
       "0    carwidth  0.000636\n",
       "1  curbweight  1.409967\n",
       "2      stroke  0.011468\n",
       "3     peakrpm  0.085697"
      ]
     },
     "execution_count": 11,
     "metadata": {},
     "output_type": "execute_result"
    }
   ],
   "source": [
    "pd.DataFrame(np.vstack((x.columns, perm_score.importances_mean)).T)"
   ]
  },
  {
   "cell_type": "code",
   "execution_count": 12,
   "metadata": {},
   "outputs": [
    {
     "data": {
      "text/html": [
       "<div>\n",
       "<style scoped>\n",
       "    .dataframe tbody tr th:only-of-type {\n",
       "        vertical-align: middle;\n",
       "    }\n",
       "\n",
       "    .dataframe tbody tr th {\n",
       "        vertical-align: top;\n",
       "    }\n",
       "\n",
       "    .dataframe thead th {\n",
       "        text-align: right;\n",
       "    }\n",
       "</style>\n",
       "<table border=\"1\" class=\"dataframe\">\n",
       "  <thead>\n",
       "    <tr style=\"text-align: right;\">\n",
       "      <th></th>\n",
       "      <th>features</th>\n",
       "      <th>importance</th>\n",
       "    </tr>\n",
       "  </thead>\n",
       "  <tbody>\n",
       "    <tr>\n",
       "      <th>0</th>\n",
       "      <td>carwidth</td>\n",
       "      <td>0.000636</td>\n",
       "    </tr>\n",
       "    <tr>\n",
       "      <th>1</th>\n",
       "      <td>curbweight</td>\n",
       "      <td>1.409967</td>\n",
       "    </tr>\n",
       "    <tr>\n",
       "      <th>2</th>\n",
       "      <td>stroke</td>\n",
       "      <td>0.011468</td>\n",
       "    </tr>\n",
       "    <tr>\n",
       "      <th>3</th>\n",
       "      <td>peakrpm</td>\n",
       "      <td>0.085697</td>\n",
       "    </tr>\n",
       "  </tbody>\n",
       "</table>\n",
       "</div>"
      ],
      "text/plain": [
       "     features importance\n",
       "0    carwidth   0.000636\n",
       "1  curbweight   1.409967\n",
       "2      stroke   0.011468\n",
       "3     peakrpm   0.085697"
      ]
     },
     "execution_count": 12,
     "metadata": {},
     "output_type": "execute_result"
    }
   ],
   "source": [
    "df_features = pd.DataFrame(np.vstack((x.columns, perm_score.importances_mean)).T, columns = ['features','importance'])\n",
    "df_features"
   ]
  },
  {
   "cell_type": "code",
   "execution_count": 13,
   "metadata": {},
   "outputs": [
    {
     "data": {
      "text/html": [
       "<div>\n",
       "<style scoped>\n",
       "    .dataframe tbody tr th:only-of-type {\n",
       "        vertical-align: middle;\n",
       "    }\n",
       "\n",
       "    .dataframe tbody tr th {\n",
       "        vertical-align: top;\n",
       "    }\n",
       "\n",
       "    .dataframe thead th {\n",
       "        text-align: right;\n",
       "    }\n",
       "</style>\n",
       "<table border=\"1\" class=\"dataframe\">\n",
       "  <thead>\n",
       "    <tr style=\"text-align: right;\">\n",
       "      <th></th>\n",
       "      <th>features</th>\n",
       "      <th>importance</th>\n",
       "    </tr>\n",
       "  </thead>\n",
       "  <tbody>\n",
       "    <tr>\n",
       "      <th>1</th>\n",
       "      <td>curbweight</td>\n",
       "      <td>1.409967</td>\n",
       "    </tr>\n",
       "    <tr>\n",
       "      <th>3</th>\n",
       "      <td>peakrpm</td>\n",
       "      <td>0.085697</td>\n",
       "    </tr>\n",
       "    <tr>\n",
       "      <th>2</th>\n",
       "      <td>stroke</td>\n",
       "      <td>0.011468</td>\n",
       "    </tr>\n",
       "    <tr>\n",
       "      <th>0</th>\n",
       "      <td>carwidth</td>\n",
       "      <td>0.000636</td>\n",
       "    </tr>\n",
       "  </tbody>\n",
       "</table>\n",
       "</div>"
      ],
      "text/plain": [
       "     features importance\n",
       "1  curbweight   1.409967\n",
       "3     peakrpm   0.085697\n",
       "2      stroke   0.011468\n",
       "0    carwidth   0.000636"
      ]
     },
     "execution_count": 13,
     "metadata": {},
     "output_type": "execute_result"
    }
   ],
   "source": [
    "df_features.sort_values('importance', ascending = False)"
   ]
  },
  {
   "cell_type": "code",
   "execution_count": 14,
   "metadata": {},
   "outputs": [
    {
     "data": {
      "text/html": [
       "<div>\n",
       "<style scoped>\n",
       "    .dataframe tbody tr th:only-of-type {\n",
       "        vertical-align: middle;\n",
       "    }\n",
       "\n",
       "    .dataframe tbody tr th {\n",
       "        vertical-align: top;\n",
       "    }\n",
       "\n",
       "    .dataframe thead th {\n",
       "        text-align: right;\n",
       "    }\n",
       "</style>\n",
       "<table border=\"1\" class=\"dataframe\">\n",
       "  <thead>\n",
       "    <tr style=\"text-align: right;\">\n",
       "      <th></th>\n",
       "      <th>index</th>\n",
       "      <th>features</th>\n",
       "      <th>importance</th>\n",
       "    </tr>\n",
       "  </thead>\n",
       "  <tbody>\n",
       "    <tr>\n",
       "      <th>0</th>\n",
       "      <td>1</td>\n",
       "      <td>curbweight</td>\n",
       "      <td>1.409967</td>\n",
       "    </tr>\n",
       "    <tr>\n",
       "      <th>1</th>\n",
       "      <td>3</td>\n",
       "      <td>peakrpm</td>\n",
       "      <td>0.085697</td>\n",
       "    </tr>\n",
       "    <tr>\n",
       "      <th>2</th>\n",
       "      <td>2</td>\n",
       "      <td>stroke</td>\n",
       "      <td>0.011468</td>\n",
       "    </tr>\n",
       "    <tr>\n",
       "      <th>3</th>\n",
       "      <td>0</td>\n",
       "      <td>carwidth</td>\n",
       "      <td>0.000636</td>\n",
       "    </tr>\n",
       "  </tbody>\n",
       "</table>\n",
       "</div>"
      ],
      "text/plain": [
       "   index    features importance\n",
       "0      1  curbweight   1.409967\n",
       "1      3     peakrpm   0.085697\n",
       "2      2      stroke   0.011468\n",
       "3      0    carwidth   0.000636"
      ]
     },
     "execution_count": 14,
     "metadata": {},
     "output_type": "execute_result"
    }
   ],
   "source": [
    "df_features.sort_values('importance', ascending = False).reset_index()\n"
   ]
  },
  {
   "cell_type": "code",
   "execution_count": 15,
   "metadata": {},
   "outputs": [
    {
     "data": {
      "text/html": [
       "<div>\n",
       "<style scoped>\n",
       "    .dataframe tbody tr th:only-of-type {\n",
       "        vertical-align: middle;\n",
       "    }\n",
       "\n",
       "    .dataframe tbody tr th {\n",
       "        vertical-align: top;\n",
       "    }\n",
       "\n",
       "    .dataframe thead th {\n",
       "        text-align: right;\n",
       "    }\n",
       "</style>\n",
       "<table border=\"1\" class=\"dataframe\">\n",
       "  <thead>\n",
       "    <tr style=\"text-align: right;\">\n",
       "      <th></th>\n",
       "      <th>features</th>\n",
       "      <th>importance</th>\n",
       "    </tr>\n",
       "  </thead>\n",
       "  <tbody>\n",
       "    <tr>\n",
       "      <th>0</th>\n",
       "      <td>curbweight</td>\n",
       "      <td>1.409967</td>\n",
       "    </tr>\n",
       "    <tr>\n",
       "      <th>1</th>\n",
       "      <td>peakrpm</td>\n",
       "      <td>0.085697</td>\n",
       "    </tr>\n",
       "    <tr>\n",
       "      <th>2</th>\n",
       "      <td>stroke</td>\n",
       "      <td>0.011468</td>\n",
       "    </tr>\n",
       "    <tr>\n",
       "      <th>3</th>\n",
       "      <td>carwidth</td>\n",
       "      <td>0.000636</td>\n",
       "    </tr>\n",
       "  </tbody>\n",
       "</table>\n",
       "</div>"
      ],
      "text/plain": [
       "     features importance\n",
       "0  curbweight   1.409967\n",
       "1     peakrpm   0.085697\n",
       "2      stroke   0.011468\n",
       "3    carwidth   0.000636"
      ]
     },
     "execution_count": 15,
     "metadata": {},
     "output_type": "execute_result"
    }
   ],
   "source": [
    "df_features.sort_values('importance', ascending = False).reset_index(drop=True)"
   ]
  },
  {
   "cell_type": "code",
   "execution_count": 16,
   "metadata": {},
   "outputs": [
    {
     "data": {
      "text/plain": [
       "0    carwidth\n",
       "Name: features, dtype: object"
      ]
     },
     "execution_count": 16,
     "metadata": {},
     "output_type": "execute_result"
    }
   ],
   "source": [
    "#Model 1\n",
    "\n",
    "top_1feature = df_features['features'].iloc[0:1]\n",
    "top_1feature"
   ]
  },
  {
   "cell_type": "code",
   "execution_count": 17,
   "metadata": {},
   "outputs": [
    {
     "data": {
      "text/plain": [
       "0      carwidth\n",
       "1    curbweight\n",
       "2        stroke\n",
       "3       peakrpm\n",
       "Name: features, dtype: object"
      ]
     },
     "execution_count": 17,
     "metadata": {},
     "output_type": "execute_result"
    }
   ],
   "source": [
    "df_features['features']"
   ]
  },
  {
   "cell_type": "code",
   "execution_count": 18,
   "metadata": {},
   "outputs": [
    {
     "data": {
      "text/plain": [
       "0.7090531850296394"
      ]
     },
     "execution_count": 18,
     "metadata": {},
     "output_type": "execute_result"
    }
   ],
   "source": [
    "#Model 1 with Top 1 Feature\n",
    "\n",
    "#Top 1 Feature\n",
    "top_1feature = df_features['features'].iloc[0:1]\n",
    "\n",
    "#Split the Dataset into training and testing set\n",
    "x_train, x_test, y_train, y_test = train_test_split(x[top_1feature] ,y,test_size=0.3,random_state=3)\n",
    "\n",
    "#Instanciate the model\n",
    "model = LinearRegression()\n",
    "\n",
    "#Fit the model\n",
    "model.fit(x_train, y_train)\n",
    "\n",
    "#read the model score\n",
    "model.score(x_test, y_test)"
   ]
  },
  {
   "cell_type": "code",
   "execution_count": 19,
   "metadata": {},
   "outputs": [
    {
     "name": "stdout",
     "output_type": "stream",
     "text": [
      "0      carwidth\n",
      "1    curbweight\n",
      "Name: features, dtype: object\n"
     ]
    },
    {
     "data": {
      "text/plain": [
       "0.8133642680247426"
      ]
     },
     "execution_count": 19,
     "metadata": {},
     "output_type": "execute_result"
    }
   ],
   "source": [
    "#Model 2 with Top 2 Feature\n",
    "\n",
    "#Top 2 Feature\n",
    "top_2feature = df_features['features'].iloc[0:2]\n",
    "print(top_2feature)\n",
    "#Split the Dataset into training and testing set\n",
    "x_train, x_test, y_train, y_test = train_test_split(x[top_2feature] ,y,test_size=0.3,random_state=3)\n",
    "\n",
    "#Instanciate the model\n",
    "model = LinearRegression()\n",
    "\n",
    "#Fit the model\n",
    "model.fit(x_train, y_train)\n",
    "\n",
    "#read the model score\n",
    "model.score(x_test, y_test)"
   ]
  },
  {
   "cell_type": "code",
   "execution_count": 20,
   "metadata": {},
   "outputs": [
    {
     "name": "stdout",
     "output_type": "stream",
     "text": [
      "0      carwidth\n",
      "1    curbweight\n",
      "2        stroke\n",
      "Name: features, dtype: object\n"
     ]
    },
    {
     "data": {
      "text/plain": [
       "0.8122489880881474"
      ]
     },
     "execution_count": 20,
     "metadata": {},
     "output_type": "execute_result"
    }
   ],
   "source": [
    "#Model 3 with Top 3 Feature\n",
    "\n",
    "#Top 3 Feature\n",
    "top_3feature = df_features['features'].iloc[0:3]\n",
    "print(top_3feature)\n",
    "#Split the Dataset into training and testing set\n",
    "x_train, x_test, y_train, y_test = train_test_split(x[top_3feature] ,y,test_size=0.3,random_state=3)\n",
    "\n",
    "#Instanciate the model\n",
    "model = LinearRegression()\n",
    "\n",
    "#Fit the model\n",
    "model.fit(x_train, y_train)\n",
    "\n",
    "#read the model score\n",
    "model.score(x_test, y_test)"
   ]
  },
  {
   "cell_type": "code",
   "execution_count": 21,
   "metadata": {},
   "outputs": [],
   "source": [
    "import pandas as pd\n",
    "from sklearn.datasets import fetch_california_housing\n",
    "cal = fetch_california_housing()\n",
    "df = pd.DataFrame(cal.data, columns=cal.feature_names)\n",
    "df['target'] = cal.target\n",
    "df.to_csv('california.csv')"
   ]
  },
  {
   "cell_type": "code",
   "execution_count": 22,
   "metadata": {},
   "outputs": [
    {
     "data": {
      "text/html": [
       "<div>\n",
       "<style scoped>\n",
       "    .dataframe tbody tr th:only-of-type {\n",
       "        vertical-align: middle;\n",
       "    }\n",
       "\n",
       "    .dataframe tbody tr th {\n",
       "        vertical-align: top;\n",
       "    }\n",
       "\n",
       "    .dataframe thead th {\n",
       "        text-align: right;\n",
       "    }\n",
       "</style>\n",
       "<table border=\"1\" class=\"dataframe\">\n",
       "  <thead>\n",
       "    <tr style=\"text-align: right;\">\n",
       "      <th></th>\n",
       "      <th>MedInc</th>\n",
       "      <th>HouseAge</th>\n",
       "      <th>AveRooms</th>\n",
       "      <th>AveBedrms</th>\n",
       "      <th>Population</th>\n",
       "      <th>AveOccup</th>\n",
       "      <th>Latitude</th>\n",
       "      <th>Longitude</th>\n",
       "      <th>target</th>\n",
       "    </tr>\n",
       "  </thead>\n",
       "  <tbody>\n",
       "    <tr>\n",
       "      <th>0</th>\n",
       "      <td>8.3252</td>\n",
       "      <td>41.0</td>\n",
       "      <td>6.984127</td>\n",
       "      <td>1.023810</td>\n",
       "      <td>322.0</td>\n",
       "      <td>2.555556</td>\n",
       "      <td>37.88</td>\n",
       "      <td>-122.23</td>\n",
       "      <td>4.526</td>\n",
       "    </tr>\n",
       "    <tr>\n",
       "      <th>1</th>\n",
       "      <td>8.3014</td>\n",
       "      <td>21.0</td>\n",
       "      <td>6.238137</td>\n",
       "      <td>0.971880</td>\n",
       "      <td>2401.0</td>\n",
       "      <td>2.109842</td>\n",
       "      <td>37.86</td>\n",
       "      <td>-122.22</td>\n",
       "      <td>3.585</td>\n",
       "    </tr>\n",
       "    <tr>\n",
       "      <th>2</th>\n",
       "      <td>7.2574</td>\n",
       "      <td>52.0</td>\n",
       "      <td>8.288136</td>\n",
       "      <td>1.073446</td>\n",
       "      <td>496.0</td>\n",
       "      <td>2.802260</td>\n",
       "      <td>37.85</td>\n",
       "      <td>-122.24</td>\n",
       "      <td>3.521</td>\n",
       "    </tr>\n",
       "    <tr>\n",
       "      <th>3</th>\n",
       "      <td>5.6431</td>\n",
       "      <td>52.0</td>\n",
       "      <td>5.817352</td>\n",
       "      <td>1.073059</td>\n",
       "      <td>558.0</td>\n",
       "      <td>2.547945</td>\n",
       "      <td>37.85</td>\n",
       "      <td>-122.25</td>\n",
       "      <td>3.413</td>\n",
       "    </tr>\n",
       "    <tr>\n",
       "      <th>4</th>\n",
       "      <td>3.8462</td>\n",
       "      <td>52.0</td>\n",
       "      <td>6.281853</td>\n",
       "      <td>1.081081</td>\n",
       "      <td>565.0</td>\n",
       "      <td>2.181467</td>\n",
       "      <td>37.85</td>\n",
       "      <td>-122.25</td>\n",
       "      <td>3.422</td>\n",
       "    </tr>\n",
       "  </tbody>\n",
       "</table>\n",
       "</div>"
      ],
      "text/plain": [
       "   MedInc  HouseAge  AveRooms  AveBedrms  Population  AveOccup  Latitude  \\\n",
       "0  8.3252      41.0  6.984127   1.023810       322.0  2.555556     37.88   \n",
       "1  8.3014      21.0  6.238137   0.971880      2401.0  2.109842     37.86   \n",
       "2  7.2574      52.0  8.288136   1.073446       496.0  2.802260     37.85   \n",
       "3  5.6431      52.0  5.817352   1.073059       558.0  2.547945     37.85   \n",
       "4  3.8462      52.0  6.281853   1.081081       565.0  2.181467     37.85   \n",
       "\n",
       "   Longitude  target  \n",
       "0    -122.23   4.526  \n",
       "1    -122.22   3.585  \n",
       "2    -122.24   3.521  \n",
       "3    -122.25   3.413  \n",
       "4    -122.25   3.422  "
      ]
     },
     "execution_count": 22,
     "metadata": {},
     "output_type": "execute_result"
    }
   ],
   "source": [
    "df.head()"
   ]
  },
  {
   "cell_type": "code",
   "execution_count": 23,
   "metadata": {},
   "outputs": [],
   "source": [
    "from sklearn.linear_model import LinearRegression\n",
    "from sklearn.model_selection import train_test_split"
   ]
  },
  {
   "cell_type": "code",
   "execution_count": 24,
   "metadata": {},
   "outputs": [
    {
     "data": {
      "text/html": [
       "<div>\n",
       "<style scoped>\n",
       "    .dataframe tbody tr th:only-of-type {\n",
       "        vertical-align: middle;\n",
       "    }\n",
       "\n",
       "    .dataframe tbody tr th {\n",
       "        vertical-align: top;\n",
       "    }\n",
       "\n",
       "    .dataframe thead th {\n",
       "        text-align: right;\n",
       "    }\n",
       "</style>\n",
       "<table border=\"1\" class=\"dataframe\">\n",
       "  <thead>\n",
       "    <tr style=\"text-align: right;\">\n",
       "      <th></th>\n",
       "      <th>MedInc</th>\n",
       "      <th>HouseAge</th>\n",
       "      <th>AveRooms</th>\n",
       "      <th>AveBedrms</th>\n",
       "    </tr>\n",
       "  </thead>\n",
       "  <tbody>\n",
       "    <tr>\n",
       "      <th>0</th>\n",
       "      <td>8.3252</td>\n",
       "      <td>41.0</td>\n",
       "      <td>6.984127</td>\n",
       "      <td>1.023810</td>\n",
       "    </tr>\n",
       "    <tr>\n",
       "      <th>1</th>\n",
       "      <td>8.3014</td>\n",
       "      <td>21.0</td>\n",
       "      <td>6.238137</td>\n",
       "      <td>0.971880</td>\n",
       "    </tr>\n",
       "    <tr>\n",
       "      <th>2</th>\n",
       "      <td>7.2574</td>\n",
       "      <td>52.0</td>\n",
       "      <td>8.288136</td>\n",
       "      <td>1.073446</td>\n",
       "    </tr>\n",
       "    <tr>\n",
       "      <th>3</th>\n",
       "      <td>5.6431</td>\n",
       "      <td>52.0</td>\n",
       "      <td>5.817352</td>\n",
       "      <td>1.073059</td>\n",
       "    </tr>\n",
       "    <tr>\n",
       "      <th>4</th>\n",
       "      <td>3.8462</td>\n",
       "      <td>52.0</td>\n",
       "      <td>6.281853</td>\n",
       "      <td>1.081081</td>\n",
       "    </tr>\n",
       "    <tr>\n",
       "      <th>...</th>\n",
       "      <td>...</td>\n",
       "      <td>...</td>\n",
       "      <td>...</td>\n",
       "      <td>...</td>\n",
       "    </tr>\n",
       "    <tr>\n",
       "      <th>20635</th>\n",
       "      <td>1.5603</td>\n",
       "      <td>25.0</td>\n",
       "      <td>5.045455</td>\n",
       "      <td>1.133333</td>\n",
       "    </tr>\n",
       "    <tr>\n",
       "      <th>20636</th>\n",
       "      <td>2.5568</td>\n",
       "      <td>18.0</td>\n",
       "      <td>6.114035</td>\n",
       "      <td>1.315789</td>\n",
       "    </tr>\n",
       "    <tr>\n",
       "      <th>20637</th>\n",
       "      <td>1.7000</td>\n",
       "      <td>17.0</td>\n",
       "      <td>5.205543</td>\n",
       "      <td>1.120092</td>\n",
       "    </tr>\n",
       "    <tr>\n",
       "      <th>20638</th>\n",
       "      <td>1.8672</td>\n",
       "      <td>18.0</td>\n",
       "      <td>5.329513</td>\n",
       "      <td>1.171920</td>\n",
       "    </tr>\n",
       "    <tr>\n",
       "      <th>20639</th>\n",
       "      <td>2.3886</td>\n",
       "      <td>16.0</td>\n",
       "      <td>5.254717</td>\n",
       "      <td>1.162264</td>\n",
       "    </tr>\n",
       "  </tbody>\n",
       "</table>\n",
       "<p>20640 rows × 4 columns</p>\n",
       "</div>"
      ],
      "text/plain": [
       "       MedInc  HouseAge  AveRooms  AveBedrms\n",
       "0      8.3252      41.0  6.984127   1.023810\n",
       "1      8.3014      21.0  6.238137   0.971880\n",
       "2      7.2574      52.0  8.288136   1.073446\n",
       "3      5.6431      52.0  5.817352   1.073059\n",
       "4      3.8462      52.0  6.281853   1.081081\n",
       "...       ...       ...       ...        ...\n",
       "20635  1.5603      25.0  5.045455   1.133333\n",
       "20636  2.5568      18.0  6.114035   1.315789\n",
       "20637  1.7000      17.0  5.205543   1.120092\n",
       "20638  1.8672      18.0  5.329513   1.171920\n",
       "20639  2.3886      16.0  5.254717   1.162264\n",
       "\n",
       "[20640 rows x 4 columns]"
      ]
     },
     "execution_count": 24,
     "metadata": {},
     "output_type": "execute_result"
    }
   ],
   "source": [
    "x = df.drop(columns=[\"Latitude\",\"Longitude\",\"AveOccup\",\"Population\",\"target\"])\n",
    "x"
   ]
  },
  {
   "cell_type": "code",
   "execution_count": 25,
   "metadata": {},
   "outputs": [],
   "source": [
    "y = df['target']"
   ]
  },
  {
   "cell_type": "code",
   "execution_count": 26,
   "metadata": {},
   "outputs": [
    {
     "data": {
      "text/plain": [
       "0.5237015927315556"
      ]
     },
     "execution_count": 26,
     "metadata": {},
     "output_type": "execute_result"
    }
   ],
   "source": [
    "#Split the Dataset into training and testing set\n",
    "x_train, x_test, y_train, y_test = train_test_split(x,y,test_size=0.3,random_state=3)\n",
    "\n",
    "#Instanciate the model\n",
    "model = LinearRegression()\n",
    "\n",
    "#Fit the model\n",
    "model.fit(x_train, y_train)\n",
    "\n",
    "#read the model score\n",
    "model.score(x_test, y_test)"
   ]
  },
  {
   "cell_type": "code",
   "execution_count": 27,
   "metadata": {},
   "outputs": [],
   "source": [
    "from sklearn.inspection import permutation_importance\n",
    "perm_score = permutation_importance(model, x_train, y_train, n_repeats=40)"
   ]
  },
  {
   "cell_type": "code",
   "execution_count": 28,
   "metadata": {},
   "outputs": [
    {
     "data": {
      "text/plain": [
       "{'importances_mean': array([1.62205991, 0.06324044, 0.46004713, 0.38135082]),\n",
       " 'importances_std': array([0.01605638, 0.00201072, 0.00567249, 0.0056346 ]),\n",
       " 'importances': array([[1.60606419, 1.60422092, 1.61605503, 1.62600268, 1.59952664,\n",
       "         1.61935584, 1.62549945, 1.62956232, 1.60581232, 1.59369699,\n",
       "         1.64928227, 1.60361979, 1.62340639, 1.59922044, 1.63476408,\n",
       "         1.63171893, 1.63396448, 1.65273183, 1.6126225 , 1.60363626,\n",
       "         1.6432171 , 1.62932386, 1.62881403, 1.6291242 , 1.60364554,\n",
       "         1.61119319, 1.62863672, 1.62065738, 1.6176921 , 1.63716394,\n",
       "         1.63832551, 1.60867916, 1.65285643, 1.64299109, 1.61157127,\n",
       "         1.60608869, 1.61848996, 1.62620479, 1.60598841, 1.6509697 ],\n",
       "        [0.06554728, 0.06146723, 0.0626083 , 0.0671864 , 0.06136291,\n",
       "         0.06378335, 0.06359823, 0.05990392, 0.06046175, 0.06231446,\n",
       "         0.06315482, 0.06181673, 0.06213376, 0.06720436, 0.06243641,\n",
       "         0.06111467, 0.06326875, 0.06499729, 0.06016171, 0.06813457,\n",
       "         0.0626611 , 0.06567485, 0.06431   , 0.06320903, 0.06291078,\n",
       "         0.0640529 , 0.06321757, 0.06000761, 0.05935517, 0.06159192,\n",
       "         0.06357145, 0.06447138, 0.06446922, 0.06167792, 0.06593346,\n",
       "         0.06357532, 0.06351435, 0.06439152, 0.06463733, 0.06372798],\n",
       "        [0.458314  , 0.46874627, 0.45966147, 0.45554213, 0.45605623,\n",
       "         0.4674574 , 0.4690401 , 0.44699135, 0.45941499, 0.46215498,\n",
       "         0.45735296, 0.45837861, 0.45253927, 0.46361381, 0.45644035,\n",
       "         0.4566935 , 0.4560615 , 0.46043485, 0.46402203, 0.45834106,\n",
       "         0.45651065, 0.46008752, 0.46110027, 0.45714655, 0.4732682 ,\n",
       "         0.46382101, 0.45621354, 0.45569769, 0.45730988, 0.4595555 ,\n",
       "         0.45445038, 0.46969993, 0.44963938, 0.46521835, 0.46913287,\n",
       "         0.46136194, 0.46113942, 0.46439779, 0.45216912, 0.46670853],\n",
       "        [0.38016267, 0.37396268, 0.38083135, 0.38444238, 0.39135227,\n",
       "         0.38152233, 0.37773793, 0.37559436, 0.38922243, 0.38807269,\n",
       "         0.38228112, 0.38502937, 0.38208023, 0.37521344, 0.37597674,\n",
       "         0.3732308 , 0.39204569, 0.38125792, 0.38769382, 0.38429283,\n",
       "         0.38378099, 0.38754433, 0.38507797, 0.3857939 , 0.3739027 ,\n",
       "         0.38225444, 0.3786154 , 0.38457656, 0.38590952, 0.37786105,\n",
       "         0.38065323, 0.36928948, 0.37992416, 0.37878726, 0.37377088,\n",
       "         0.37873579, 0.38888553, 0.38549404, 0.38250527, 0.36866741]])}"
      ]
     },
     "execution_count": 28,
     "metadata": {},
     "output_type": "execute_result"
    }
   ],
   "source": [
    "perm_score"
   ]
  },
  {
   "cell_type": "code",
   "execution_count": 29,
   "metadata": {},
   "outputs": [],
   "source": [
    "import numpy as np\n",
    "df_features =pd.DataFrame(np.vstack((x_train.columns, perm_score.importances_mean)).T, columns=['feature','importance'])\n",
    "    "
   ]
  },
  {
   "cell_type": "code",
   "execution_count": 30,
   "metadata": {},
   "outputs": [
    {
     "data": {
      "text/html": [
       "<div>\n",
       "<style scoped>\n",
       "    .dataframe tbody tr th:only-of-type {\n",
       "        vertical-align: middle;\n",
       "    }\n",
       "\n",
       "    .dataframe tbody tr th {\n",
       "        vertical-align: top;\n",
       "    }\n",
       "\n",
       "    .dataframe thead th {\n",
       "        text-align: right;\n",
       "    }\n",
       "</style>\n",
       "<table border=\"1\" class=\"dataframe\">\n",
       "  <thead>\n",
       "    <tr style=\"text-align: right;\">\n",
       "      <th></th>\n",
       "      <th>feature</th>\n",
       "      <th>importance</th>\n",
       "    </tr>\n",
       "  </thead>\n",
       "  <tbody>\n",
       "    <tr>\n",
       "      <th>0</th>\n",
       "      <td>MedInc</td>\n",
       "      <td>1.62206</td>\n",
       "    </tr>\n",
       "    <tr>\n",
       "      <th>1</th>\n",
       "      <td>HouseAge</td>\n",
       "      <td>0.06324</td>\n",
       "    </tr>\n",
       "    <tr>\n",
       "      <th>2</th>\n",
       "      <td>AveRooms</td>\n",
       "      <td>0.460047</td>\n",
       "    </tr>\n",
       "    <tr>\n",
       "      <th>3</th>\n",
       "      <td>AveBedrms</td>\n",
       "      <td>0.381351</td>\n",
       "    </tr>\n",
       "  </tbody>\n",
       "</table>\n",
       "</div>"
      ],
      "text/plain": [
       "     feature importance\n",
       "0     MedInc    1.62206\n",
       "1   HouseAge    0.06324\n",
       "2   AveRooms   0.460047\n",
       "3  AveBedrms   0.381351"
      ]
     },
     "execution_count": 30,
     "metadata": {},
     "output_type": "execute_result"
    }
   ],
   "source": [
    "df_features"
   ]
  },
  {
   "cell_type": "code",
   "execution_count": 31,
   "metadata": {},
   "outputs": [
    {
     "data": {
      "text/html": [
       "<div>\n",
       "<style scoped>\n",
       "    .dataframe tbody tr th:only-of-type {\n",
       "        vertical-align: middle;\n",
       "    }\n",
       "\n",
       "    .dataframe tbody tr th {\n",
       "        vertical-align: top;\n",
       "    }\n",
       "\n",
       "    .dataframe thead th {\n",
       "        text-align: right;\n",
       "    }\n",
       "</style>\n",
       "<table border=\"1\" class=\"dataframe\">\n",
       "  <thead>\n",
       "    <tr style=\"text-align: right;\">\n",
       "      <th></th>\n",
       "      <th>feature</th>\n",
       "      <th>importance</th>\n",
       "    </tr>\n",
       "  </thead>\n",
       "  <tbody>\n",
       "    <tr>\n",
       "      <th>0</th>\n",
       "      <td>MedInc</td>\n",
       "      <td>1.62206</td>\n",
       "    </tr>\n",
       "    <tr>\n",
       "      <th>2</th>\n",
       "      <td>AveRooms</td>\n",
       "      <td>0.460047</td>\n",
       "    </tr>\n",
       "    <tr>\n",
       "      <th>3</th>\n",
       "      <td>AveBedrms</td>\n",
       "      <td>0.381351</td>\n",
       "    </tr>\n",
       "    <tr>\n",
       "      <th>1</th>\n",
       "      <td>HouseAge</td>\n",
       "      <td>0.06324</td>\n",
       "    </tr>\n",
       "  </tbody>\n",
       "</table>\n",
       "</div>"
      ],
      "text/plain": [
       "     feature importance\n",
       "0     MedInc    1.62206\n",
       "2   AveRooms   0.460047\n",
       "3  AveBedrms   0.381351\n",
       "1   HouseAge    0.06324"
      ]
     },
     "execution_count": 31,
     "metadata": {},
     "output_type": "execute_result"
    }
   ],
   "source": [
    "df_features.sort_values('importance', ascending = False)"
   ]
  },
  {
   "cell_type": "code",
   "execution_count": 32,
   "metadata": {},
   "outputs": [
    {
     "data": {
      "text/html": [
       "<div>\n",
       "<style scoped>\n",
       "    .dataframe tbody tr th:only-of-type {\n",
       "        vertical-align: middle;\n",
       "    }\n",
       "\n",
       "    .dataframe tbody tr th {\n",
       "        vertical-align: top;\n",
       "    }\n",
       "\n",
       "    .dataframe thead th {\n",
       "        text-align: right;\n",
       "    }\n",
       "</style>\n",
       "<table border=\"1\" class=\"dataframe\">\n",
       "  <thead>\n",
       "    <tr style=\"text-align: right;\">\n",
       "      <th></th>\n",
       "      <th>index</th>\n",
       "      <th>feature</th>\n",
       "      <th>importance</th>\n",
       "    </tr>\n",
       "  </thead>\n",
       "  <tbody>\n",
       "    <tr>\n",
       "      <th>0</th>\n",
       "      <td>0</td>\n",
       "      <td>MedInc</td>\n",
       "      <td>1.62206</td>\n",
       "    </tr>\n",
       "    <tr>\n",
       "      <th>1</th>\n",
       "      <td>2</td>\n",
       "      <td>AveRooms</td>\n",
       "      <td>0.460047</td>\n",
       "    </tr>\n",
       "    <tr>\n",
       "      <th>2</th>\n",
       "      <td>3</td>\n",
       "      <td>AveBedrms</td>\n",
       "      <td>0.381351</td>\n",
       "    </tr>\n",
       "    <tr>\n",
       "      <th>3</th>\n",
       "      <td>1</td>\n",
       "      <td>HouseAge</td>\n",
       "      <td>0.06324</td>\n",
       "    </tr>\n",
       "  </tbody>\n",
       "</table>\n",
       "</div>"
      ],
      "text/plain": [
       "   index    feature importance\n",
       "0      0     MedInc    1.62206\n",
       "1      2   AveRooms   0.460047\n",
       "2      3  AveBedrms   0.381351\n",
       "3      1   HouseAge    0.06324"
      ]
     },
     "execution_count": 32,
     "metadata": {},
     "output_type": "execute_result"
    }
   ],
   "source": [
    "df_features.sort_values('importance', ascending = False).reset_index()\n"
   ]
  },
  {
   "cell_type": "code",
   "execution_count": 33,
   "metadata": {},
   "outputs": [
    {
     "data": {
      "text/html": [
       "<div>\n",
       "<style scoped>\n",
       "    .dataframe tbody tr th:only-of-type {\n",
       "        vertical-align: middle;\n",
       "    }\n",
       "\n",
       "    .dataframe tbody tr th {\n",
       "        vertical-align: top;\n",
       "    }\n",
       "\n",
       "    .dataframe thead th {\n",
       "        text-align: right;\n",
       "    }\n",
       "</style>\n",
       "<table border=\"1\" class=\"dataframe\">\n",
       "  <thead>\n",
       "    <tr style=\"text-align: right;\">\n",
       "      <th></th>\n",
       "      <th>feature</th>\n",
       "      <th>importance</th>\n",
       "    </tr>\n",
       "  </thead>\n",
       "  <tbody>\n",
       "    <tr>\n",
       "      <th>0</th>\n",
       "      <td>MedInc</td>\n",
       "      <td>1.62206</td>\n",
       "    </tr>\n",
       "    <tr>\n",
       "      <th>1</th>\n",
       "      <td>AveRooms</td>\n",
       "      <td>0.460047</td>\n",
       "    </tr>\n",
       "    <tr>\n",
       "      <th>2</th>\n",
       "      <td>AveBedrms</td>\n",
       "      <td>0.381351</td>\n",
       "    </tr>\n",
       "    <tr>\n",
       "      <th>3</th>\n",
       "      <td>HouseAge</td>\n",
       "      <td>0.06324</td>\n",
       "    </tr>\n",
       "  </tbody>\n",
       "</table>\n",
       "</div>"
      ],
      "text/plain": [
       "     feature importance\n",
       "0     MedInc    1.62206\n",
       "1   AveRooms   0.460047\n",
       "2  AveBedrms   0.381351\n",
       "3   HouseAge    0.06324"
      ]
     },
     "execution_count": 33,
     "metadata": {},
     "output_type": "execute_result"
    }
   ],
   "source": [
    "df_features.sort_values('importance', ascending = False).reset_index(drop=True)"
   ]
  },
  {
   "cell_type": "code",
   "execution_count": 34,
   "metadata": {},
   "outputs": [
    {
     "data": {
      "text/plain": [
       "0    MedInc\n",
       "Name: feature, dtype: object"
      ]
     },
     "execution_count": 34,
     "metadata": {},
     "output_type": "execute_result"
    }
   ],
   "source": [
    "#Model 1\n",
    "\n",
    "top_1feature = df_features['feature'].iloc[0:1]\n",
    "top_1feature"
   ]
  },
  {
   "cell_type": "code",
   "execution_count": 35,
   "metadata": {},
   "outputs": [
    {
     "data": {
      "text/plain": [
       "0.4816640675164783"
      ]
     },
     "execution_count": 35,
     "metadata": {},
     "output_type": "execute_result"
    }
   ],
   "source": [
    "#Model 1 with Top 1 Feature\n",
    "\n",
    "#Top 1 Feature\n",
    "top_1feature = df_features['feature'].iloc[0:1]\n",
    "\n",
    "#Split the Dataset into training and testing set\n",
    "x_train, x_test, y_train, y_test = train_test_split(x[top_1feature] ,y,test_size=0.3,random_state=3)\n",
    "\n",
    "#Instanciate the model\n",
    "model = LinearRegression()\n",
    "\n",
    "#Fit the model\n",
    "model.fit(x_train, y_train)\n",
    "\n",
    "#read the model score\n",
    "model.score(x_test, y_test)"
   ]
  },
  {
   "cell_type": "code",
   "execution_count": 36,
   "metadata": {},
   "outputs": [
    {
     "name": "stdout",
     "output_type": "stream",
     "text": [
      "0      MedInc\n",
      "1    HouseAge\n",
      "Name: feature, dtype: object\n"
     ]
    },
    {
     "data": {
      "text/plain": [
       "0.512996828523566"
      ]
     },
     "execution_count": 36,
     "metadata": {},
     "output_type": "execute_result"
    }
   ],
   "source": [
    "#Model 2 with Top 2 Feature\n",
    "\n",
    "#Top 2 Feature\n",
    "top_2feature = df_features['feature'].iloc[0:2]\n",
    "print(top_2feature)\n",
    "#Split the Dataset into training and testing set\n",
    "x_train, x_test, y_train, y_test = train_test_split(x[top_2feature] ,y,test_size=0.3,random_state=3)\n",
    "\n",
    "#Instanciate the model\n",
    "model = LinearRegression()\n",
    "\n",
    "#Fit the model\n",
    "model.fit(x_train, y_train)\n",
    "\n",
    "#read the model score\n",
    "model.score(x_test, y_test)"
   ]
  },
  {
   "cell_type": "code",
   "execution_count": 37,
   "metadata": {},
   "outputs": [
    {
     "name": "stdout",
     "output_type": "stream",
     "text": [
      "0      MedInc\n",
      "1    HouseAge\n",
      "2    AveRooms\n",
      "Name: feature, dtype: object\n"
     ]
    },
    {
     "data": {
      "text/plain": [
       "0.5169516673149406"
      ]
     },
     "execution_count": 37,
     "metadata": {},
     "output_type": "execute_result"
    }
   ],
   "source": [
    "#Model 3 with Top 3 Feature\n",
    "\n",
    "#Top 3 Feature\n",
    "top_3feature = df_features['feature'].iloc[0:3]\n",
    "print(top_3feature)\n",
    "#Split the Dataset into training and testing set\n",
    "x_train, x_test, y_train, y_test = train_test_split(x[top_3feature] ,y,test_size=0.3,random_state=3)\n",
    "\n",
    "#Instanciate the model\n",
    "model = LinearRegression()\n",
    "\n",
    "#Fit the model\n",
    "model.fit(x_train, y_train)\n",
    "\n",
    "#read the model score\n",
    "model.score(x_test, y_test)"
   ]
  },
  {
   "cell_type": "code",
   "execution_count": null,
   "metadata": {},
   "outputs": [],
   "source": []
  },
  {
   "cell_type": "code",
   "execution_count": null,
   "metadata": {},
   "outputs": [],
   "source": []
  }
 ],
 "metadata": {
  "kernelspec": {
   "display_name": "Python 3 (ipykernel)",
   "language": "python",
   "name": "python3"
  },
  "language_info": {
   "codemirror_mode": {
    "name": "ipython",
    "version": 3
   },
   "file_extension": ".py",
   "mimetype": "text/x-python",
   "name": "python",
   "nbconvert_exporter": "python",
   "pygments_lexer": "ipython3",
   "version": "3.9.7"
  }
 },
 "nbformat": 4,
 "nbformat_minor": 4
}
